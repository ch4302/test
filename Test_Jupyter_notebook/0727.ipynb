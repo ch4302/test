{
 "cells": [
  {
   "cell_type": "code",
   "execution_count": 1,
   "metadata": {},
   "outputs": [
    {
     "name": "stdout",
     "output_type": "stream",
     "text": [
      "Hello world!\n"
     ]
    }
   ],
   "source": [
    "print(\"Hello world!\")"
   ]
  },
  {
   "cell_type": "code",
   "execution_count": 2,
   "metadata": {},
   "outputs": [
    {
     "data": {
      "text/plain": [
       "2"
      ]
     },
     "execution_count": 2,
     "metadata": {},
     "output_type": "execute_result"
    }
   ],
   "source": [
    "1+1"
   ]
  },
  {
   "cell_type": "code",
   "execution_count": 3,
   "metadata": {},
   "outputs": [
    {
     "data": {
      "text/plain": [
       "7"
      ]
     },
     "execution_count": 3,
     "metadata": {},
     "output_type": "execute_result"
    }
   ],
   "source": [
    "10 - 3"
   ]
  },
  {
   "cell_type": "code",
   "execution_count": 4,
   "metadata": {},
   "outputs": [
    {
     "name": "stdout",
     "output_type": "stream",
     "text": [
      "5 + 7 = 12\n",
      "5 - 7 = -2\n",
      "5 * 7 = 35\n",
      "5 / 7 = 0.7142857142857143\n"
     ]
    }
   ],
   "source": [
    "print(\"5 + 7 =\", 5 + 7)\n",
    "print(\"5 - 7 =\", 5 - 7)\n",
    "print(\"5 * 7 =\", 5 * 7)\n",
    "print(\"5 / 7 =\", 5 / 7)"
   ]
  },
  {
   "cell_type": "code",
   "execution_count": 6,
   "metadata": {},
   "outputs": [
    {
     "name": "stdout",
     "output_type": "stream",
     "text": [
      "2 ** 1 = 2\n",
      "2 ** 2 = 4\n",
      "2 ** 3 = 8\n",
      "2 ** 4 = 16\n",
      "2 ** 5 = 32\n"
     ]
    }
   ],
   "source": [
    "print(\"2 ** 1 =\", 2 ** 1)\n",
    "print(\"2 ** 2 =\", 2 ** 2)\n",
    "print(\"2 ** 3 =\", 2 ** 3)\n",
    "print(\"2 ** 4 =\", 2 ** 4)\n",
    "print(\"2 ** 5 =\", 2 ** 5)"
   ]
  },
  {
   "cell_type": "code",
   "execution_count": 8,
   "metadata": {},
   "outputs": [
    {
     "name": "stdout",
     "output_type": "stream",
     "text": [
      "오늘의 랜덤 로또번호는\n",
      " [2, 25, 26, 38, 42, 43]\n"
     ]
    }
   ],
   "source": [
    "import random\n",
    "l = random.sample(range(1, 46), 6)\n",
    "l.sort()\n",
    "\n",
    "print(\"오늘의 랜덤 로또번호는\\n\", l)"
   ]
  },
  {
   "cell_type": "code",
   "execution_count": 10,
   "metadata": {},
   "outputs": [
    {
     "name": "stdout",
     "output_type": "stream",
     "text": [
      "Hi <class 'str'>\n",
      "1 <class 'str'>\n",
      "1 <class 'int'>\n",
      "1.234 <class 'float'>\n"
     ]
    }
   ],
   "source": [
    "print('Hi', type('Hi'))\n",
    "print('1', type('1'))\n",
    "print(1, type(1))\n",
    "print(1.234, type(1.234))"
   ]
  },
  {
   "cell_type": "code",
   "execution_count": 11,
   "metadata": {},
   "outputs": [
    {
     "name": "stdout",
     "output_type": "stream",
     "text": [
      "1 <class 'str'>\n",
      "1 <class 'int'>\n"
     ]
    }
   ],
   "source": [
    "str = \"1\"\n",
    "print(str, type(str))\n",
    "num = int(str)\n",
    "print(num, type(num))"
   ]
  },
  {
   "cell_type": "code",
   "execution_count": 12,
   "metadata": {},
   "outputs": [
    {
     "name": "stdout",
     "output_type": "stream",
     "text": [
      "안녕하세요 제 이름은 파이썬입니다.\n"
     ]
    }
   ],
   "source": [
    "print(\"안녕하세요\",\"제\",\"이름은\",\"파이썬입니다.\")"
   ]
  },
  {
   "cell_type": "code",
   "execution_count": 13,
   "metadata": {},
   "outputs": [
    {
     "name": "stdout",
     "output_type": "stream",
     "text": [
      "안녕하세요\n",
      "안녕하세요!\n"
     ]
    }
   ],
   "source": [
    "print(\"안녕\"+\"하세요\")\n",
    "print(\"안녕하세요\"+\"!\")"
   ]
  },
  {
   "cell_type": "code",
   "execution_count": 15,
   "metadata": {},
   "outputs": [
    {
     "ename": "TypeError",
     "evalue": "can only concatenate str (not \"int\") to str",
     "output_type": "error",
     "traceback": [
      "\u001b[1;31m---------------------------------------------------------------------------\u001b[0m",
      "\u001b[1;31mTypeError\u001b[0m                                 Traceback (most recent call last)",
      "\u001b[1;32m<ipython-input-15-ef1142912980>\u001b[0m in \u001b[0;36m<module>\u001b[1;34m\u001b[0m\n\u001b[1;32m----> 1\u001b[1;33m \u001b[0mprint\u001b[0m\u001b[1;33m(\u001b[0m\u001b[1;34m\"안녕하세요\"\u001b[0m\u001b[1;33m+\u001b[0m\u001b[1;36m1\u001b[0m\u001b[1;33m)\u001b[0m\u001b[1;33m\u001b[0m\u001b[1;33m\u001b[0m\u001b[0m\n\u001b[0m",
      "\u001b[1;31mTypeError\u001b[0m: can only concatenate str (not \"int\") to str"
     ]
    }
   ],
   "source": [
    "print(\"안녕하세요\"+1)"
   ]
  },
  {
   "cell_type": "code",
   "execution_count": 16,
   "metadata": {},
   "outputs": [
    {
     "name": "stdout",
     "output_type": "stream",
     "text": [
      "안녕하세요!안녕하세요!안녕하세요!\n",
      "안녕하세요!하세요!하세요!\n",
      "안녕하세요!안녕하세요!안녕하세요!\n"
     ]
    }
   ],
   "source": [
    "print(\"안녕하세요!\"*3)\n",
    "print(\"안녕\" + \"하세요!\" * 3)\n",
    "print((\"안녕\" + \"하세요!\") * 3)"
   ]
  },
  {
   "cell_type": "code",
   "execution_count": 17,
   "metadata": {},
   "outputs": [
    {
     "name": "stdout",
     "output_type": "stream",
     "text": [
      "안\n",
      "녕\n",
      "하\n",
      "세\n",
      "요\n"
     ]
    },
    {
     "ename": "IndexError",
     "evalue": "string index out of range",
     "output_type": "error",
     "traceback": [
      "\u001b[1;31m---------------------------------------------------------------------------\u001b[0m",
      "\u001b[1;31mIndexError\u001b[0m                                Traceback (most recent call last)",
      "\u001b[1;32m<ipython-input-17-a0ce87c6f16c>\u001b[0m in \u001b[0;36m<module>\u001b[1;34m\u001b[0m\n\u001b[0;32m      4\u001b[0m \u001b[0mprint\u001b[0m\u001b[1;33m(\u001b[0m\u001b[1;34m\"안녕하세요\"\u001b[0m\u001b[1;33m[\u001b[0m\u001b[1;36m3\u001b[0m\u001b[1;33m]\u001b[0m\u001b[1;33m)\u001b[0m\u001b[1;33m\u001b[0m\u001b[1;33m\u001b[0m\u001b[0m\n\u001b[0;32m      5\u001b[0m \u001b[0mprint\u001b[0m\u001b[1;33m(\u001b[0m\u001b[1;34m\"안녕하세요\"\u001b[0m\u001b[1;33m[\u001b[0m\u001b[1;36m4\u001b[0m\u001b[1;33m]\u001b[0m\u001b[1;33m)\u001b[0m\u001b[1;33m\u001b[0m\u001b[1;33m\u001b[0m\u001b[0m\n\u001b[1;32m----> 6\u001b[1;33m \u001b[0mprint\u001b[0m\u001b[1;33m(\u001b[0m\u001b[1;34m\"안녕하세요\"\u001b[0m\u001b[1;33m[\u001b[0m\u001b[1;36m5\u001b[0m\u001b[1;33m]\u001b[0m\u001b[1;33m)\u001b[0m\u001b[1;33m\u001b[0m\u001b[1;33m\u001b[0m\u001b[0m\n\u001b[0m",
      "\u001b[1;31mIndexError\u001b[0m: string index out of range"
     ]
    }
   ],
   "source": [
    "print(\"안녕하세요\"[0])\n",
    "print(\"안녕하세요\"[1])\n",
    "print(\"안녕하세요\"[2])\n",
    "print(\"안녕하세요\"[3])\n",
    "print(\"안녕하세요\"[4])\n",
    "print(\"안녕하세요\"[5])"
   ]
  },
  {
   "cell_type": "code",
   "execution_count": 18,
   "metadata": {},
   "outputs": [
    {
     "name": "stdout",
     "output_type": "stream",
     "text": [
      "녕하\n",
      "하세요\n",
      "안녕\n"
     ]
    }
   ],
   "source": [
    "print(\"안녕하세요\"[1:3])\n",
    "print(\"안녕하세요\"[2:])\n",
    "print(\"안녕하세요\"[:2])"
   ]
  },
  {
   "cell_type": "code",
   "execution_count": 19,
   "metadata": {},
   "outputs": [
    {
     "name": "stdout",
     "output_type": "stream",
     "text": [
      "하세요\n",
      "안녕하세요\n",
      "5\n"
     ]
    }
   ],
   "source": [
    "hello = \"안녕하세요\"\n",
    "print(hello[2:5])\n",
    "print(hello)\n",
    "print(len(hello))"
   ]
  },
  {
   "cell_type": "code",
   "execution_count": 20,
   "metadata": {},
   "outputs": [
    {
     "name": "stdout",
     "output_type": "stream",
     "text": [
      "hello\n",
      "\n",
      "wrold\n"
     ]
    }
   ],
   "source": [
    "print(\"hello\")\n",
    "print()\n",
    "print(\"wrold\")"
   ]
  },
  {
   "cell_type": "code",
   "execution_count": 21,
   "metadata": {},
   "outputs": [
    {
     "name": "stdout",
     "output_type": "stream",
     "text": [
      "A: Hi! How's it going?\n",
      "B: Oh, great.\n"
     ]
    }
   ],
   "source": [
    "print(\"A: Hi! How's it going?\")\n",
    "print(\"B: Oh, great.\")"
   ]
  },
  {
   "cell_type": "code",
   "execution_count": 22,
   "metadata": {},
   "outputs": [
    {
     "name": "stdout",
     "output_type": "stream",
     "text": [
      "A: Hey, what's up?                      \n",
      "                     B: Not much, Bored.\n"
     ]
    }
   ],
   "source": [
    "print(\"A: Hey, what's up?\".ljust(40))\n",
    "print(\"B: Not much, Bored.\".rjust(40))"
   ]
  },
  {
   "cell_type": "code",
   "execution_count": 23,
   "metadata": {},
   "outputs": [
    {
     "name": "stdout",
     "output_type": "stream",
     "text": [
      "이름\t나이\t팀\n",
      "메시\t33\t바르셀로나\n",
      "손흥민\t28\t토트넘\n",
      "호날두\t32\t유벤투스\n"
     ]
    }
   ],
   "source": [
    "print(\"이름\\t나이\\t팀\")\n",
    "print(\"메시\\t33\\t바르셀로나\")\n",
    "print(\"손흥민\\t28\\t토트넘\")\n",
    "print(\"호날두\\t32\\t유벤투스\")"
   ]
  },
  {
   "cell_type": "code",
   "execution_count": 24,
   "metadata": {},
   "outputs": [
    {
     "name": "stdout",
     "output_type": "stream",
     "text": [
      "아기 상어 뚜 루루 뚜루\n",
      "귀여운 뚜 루루 뚜루\n",
      "바닷속 뚜 루루 뚜루\n",
      "아기 상어!\n"
     ]
    }
   ],
   "source": [
    "print(\"아기 상어 뚜 루루 뚜루\\n귀여운 뚜 루루 뚜루\\n바닷속 뚜 루루 뚜루\\n아기 상어!\")"
   ]
  },
  {
   "cell_type": "code",
   "execution_count": 25,
   "metadata": {},
   "outputs": [
    {
     "name": "stdout",
     "output_type": "stream",
     "text": [
      "아기 상어 뚜 루루 뚜루\n",
      "귀여운 뚜 루루 뚜루\n",
      "바닷속 뚜 루루 뚜루\n",
      "아기 상어!\n",
      "\n"
     ]
    }
   ],
   "source": [
    "print(\"\"\"아기 상어 뚜 루루 뚜루\n",
    "귀여운 뚜 루루 뚜루\n",
    "바닷속 뚜 루루 뚜루\n",
    "아기 상어!\n",
    "\"\"\")"
   ]
  },
  {
   "cell_type": "code",
   "execution_count": 30,
   "metadata": {},
   "outputs": [
    {
     "name": "stdout",
     "output_type": "stream",
     "text": [
      "a = 1일 때, 1\n",
      "a = -1일 때, 1\n"
     ]
    }
   ],
   "source": [
    "def abs_n(a):\n",
    "    if(a >= 0):\n",
    "        return a\n",
    "    return -a\n",
    "\n",
    "print(\"a = 1일 때,\", abs_n(1))\n",
    "print(\"a = -1일 때,\", abs_n(-1))\n"
   ]
  },
  {
   "cell_type": "code",
   "execution_count": 32,
   "metadata": {},
   "outputs": [
    {
     "name": "stdout",
     "output_type": "stream",
     "text": [
      "a = 1일 때, 1.0\n",
      "a = -1일 때, 1.0\n"
     ]
    }
   ],
   "source": [
    "import math\n",
    "def abs_nn(a):\n",
    "    b = a * a\n",
    "    res = math.sqrt(b) # 제곱한 b에 제곱근을 취하여 결과를 할당\n",
    "    return res\n",
    "print(\"a = 1일 때,\", abs_nn(1))\n",
    "print(\"a = -1일 때,\", abs_nn(-1))"
   ]
  },
  {
   "cell_type": "code",
   "execution_count": 2,
   "metadata": {},
   "outputs": [
    {
     "name": "stdout",
     "output_type": "stream",
     "text": [
      "n = 10인 경우, 55\n",
      "n = 100인 경우, 5050\n",
      "n = 1000인 경우, 500500\n"
     ]
    }
   ],
   "source": [
    "# 첫 번째 방법 - 순차적으로 더하기\n",
    "\n",
    "def sum_n(n):\n",
    "    s = 0\n",
    "    for i in range(1, n + 1):\n",
    "        s = s + i\n",
    "    return s\n",
    "\n",
    "print(\"n = 10인 경우,\", sum_n(10))\n",
    "print(\"n = 100인 경우,\", sum_n(100))\n",
    "print(\"n = 1000인 경우,\", sum_n(1000))"
   ]
  },
  {
   "cell_type": "code",
   "execution_count": 3,
   "metadata": {},
   "outputs": [
    {
     "name": "stdout",
     "output_type": "stream",
     "text": [
      "n = 10인 경우, 55\n",
      "n = 100인 경우, 5050\n",
      "n = 1000인 경우, 500500\n"
     ]
    }
   ],
   "source": [
    "# 두 번째 방법\n",
    "def sum_nn(n):\n",
    "    res = n * (n + 1) // 2 # 정수 나눗셈을 의미\n",
    "    return res\n",
    "\n",
    "print(\"n = 10인 경우,\", sum_n(10))\n",
    "print(\"n = 100인 경우,\", sum_n(100))\n",
    "print(\"n = 1000인 경우,\", sum_n(1000))"
   ]
  },
  {
   "cell_type": "code",
   "execution_count": 3,
   "metadata": {},
   "outputs": [
    {
     "name": "stdout",
     "output_type": "stream",
     "text": [
      "n = 10인 경우, 385\n",
      "n = 100인 경우, 338350\n",
      "n = 1000인 경우, 333833500\n"
     ]
    }
   ],
   "source": [
    "def sum_n(n):\n",
    "    s = (n * (n + 1) * (2 * n + 1)) // 6\n",
    "    return s\n",
    "\n",
    "print(\"n = 10인 경우,\", sum_n(10))\n",
    "print(\"n = 100인 경우,\", sum_n(100))\n",
    "print(\"n = 1000인 경우,\", sum_n(1000))"
   ]
  },
  {
   "cell_type": "code",
   "execution_count": 12,
   "metadata": {},
   "outputs": [
    {
     "name": "stdout",
     "output_type": "stream",
     "text": [
      "find_max(v)\n",
      "결과:  97\n"
     ]
    }
   ],
   "source": [
    "def find_max(a):\n",
    "    n = len(a)\n",
    "    max_v = a[0]\n",
    "    for i in range(1, n):\n",
    "        if a[i] > max_v:\n",
    "            max_v = a[i]\n",
    "    return max_v\n",
    "\n",
    "v = [3, 23, 55, 65, 76, 56, 43, 97, 34, 13]\n",
    "\n",
    "print(\"find_max(v)\\n결과: \", find_max(v))"
   ]
  },
  {
   "cell_type": "code",
   "execution_count": 18,
   "metadata": {},
   "outputs": [
    {
     "name": "stdout",
     "output_type": "stream",
     "text": [
      "find_min(m)\n",
      "최솟값 : 12\n",
      "find_min_idx(m)\n",
      "최솟값 위치: 4\n"
     ]
    }
   ],
   "source": [
    "def find_min(a): #최솟값 구하는 함수\n",
    "    n = len(a)\n",
    "    min_m = a[0]\n",
    "    for i in range(1,n):\n",
    "        if a[i] < min_m:\n",
    "            min_m=a[i]\n",
    "    return min_m\n",
    "\n",
    "def find_min_idx(a): #최솟값의 위치를 찾는 함수\n",
    "    n = len(a)\n",
    "    index = 0;\n",
    "    \n",
    "    for i in range(1,n):\n",
    "        if a[i] < a[index]:\n",
    "            index = i\n",
    "    return index\n",
    "\n",
    "m = [23,45,53,32,12,22,41,54,64,38,49]\n",
    "\n",
    "print(\"find_min(m)\\n최솟값 :\",find_min(m))\n",
    "print(\"find_min_idx(m)\\n최솟값 위치:\",find_min_idx(m))"
   ]
  },
  {
   "cell_type": "code",
   "execution_count": 22,
   "metadata": {},
   "outputs": [
    {
     "name": "stdout",
     "output_type": "stream",
     "text": [
      "find_same_name(name)\n",
      " 결과: {'블랙위도우', '헐크', '캡틴'}\n",
      "find_same_name(name2)\n",
      " 결과: {'타노스', '토르', '아이언맨'}\n"
     ]
    }
   ],
   "source": [
    "# 동명이인 찾기\n",
    "def find_same_name(a):\n",
    "    n = len(a)\n",
    "    res = set()\n",
    "    for i in range(0, n - 1):\n",
    "        for j in range(i + 1, n):\n",
    "            if a[i] == a[j]:\n",
    "                res.add(a[i])\n",
    "    return res\n",
    "\n",
    "name = [\"캡틴\", \"아이언맨\", \"토르\", \"헐크\", \"블랙위도우\", \"타노스\", \"캡틴\", \"헐크\", \"블랙위도우\"]\n",
    "name2 = [\"캡틴\", \"아이언맨\", \"토르\", \"헐크\", \"블랙위도우\", \"타노스\", \"아이언맨\", \"토르\", \"타노스\"]\n",
    "\n",
    "print(\"find_same_name(name)\\n 결과:\", find_same_name(name))\n",
    "print(\"find_same_name(name2)\\n 결과:\", find_same_name(name2))"
   ]
  },
  {
   "cell_type": "code",
   "execution_count": null,
   "metadata": {},
   "outputs": [],
   "source": [
    "\n"
   ]
  }
 ],
 "metadata": {
  "kernelspec": {
   "display_name": "Python 3",
   "language": "python",
   "name": "python3"
  },
  "language_info": {
   "codemirror_mode": {
    "name": "ipython",
    "version": 3
   },
   "file_extension": ".py",
   "mimetype": "text/x-python",
   "name": "python",
   "nbconvert_exporter": "python",
   "pygments_lexer": "ipython3",
   "version": "3.7.6"
  }
 },
 "nbformat": 4,
 "nbformat_minor": 4
}
